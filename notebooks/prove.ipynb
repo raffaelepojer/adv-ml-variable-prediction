{
 "cells": [
  {
   "cell_type": "code",
   "execution_count": 15,
   "metadata": {},
   "outputs": [],
   "source": [
    "from abc import ABC, abstractmethod\n",
    "\n",
    "\n",
    "class A:\n",
    "    def __init__(self):\n",
    "        print('Init sub-class A')\n",
    "        self.par1 = None\n",
    "        self.par2 = None\n",
    "        self._init_data()\n",
    "\n",
    "    @abstractmethod\n",
    "    def _init_data(self, *args, **kwargs):\n",
    "        print('Method sub-class A')\n",
    "        self.par1 = True\n",
    "        self.par2 = False\n",
    "\n",
    "    def train(self):\n",
    "        print('Training in A')\n",
    "\n",
    "\n",
    "class B(A, ABC):\n",
    "    def _init_data(self):\n",
    "        print('Method class B: ', self.par1)\n"
   ]
  },
  {
   "cell_type": "code",
   "execution_count": 62,
   "metadata": {},
   "outputs": [
    {
     "name": "stdout",
     "output_type": "stream",
     "text": [
      "Init sub-class A\n",
      "Method class B:  None\n",
      "Training in A\n"
     ]
    }
   ],
   "source": [
    "#a = A()\n",
    "b = B()\n",
    "b.train()\n"
   ]
  },
  {
   "cell_type": "code",
   "execution_count": 8,
   "metadata": {},
   "outputs": [
    {
     "name": "stdout",
     "output_type": "stream",
     "text": [
      "_tuplegetter(2, 'Alias for field number 2')\n"
     ]
    }
   ],
   "source": [
    "from collections import namedtuple\n",
    "\n",
    "tupla1 = namedtuple(\"tupla1\", [\"ciao\", \"come\", \"va\"])\n",
    "\n",
    "a = tupla1\n",
    "a.ciao = 1\n",
    "a.come = 2\n",
    "print(a.va)\n"
   ]
  },
  {
   "cell_type": "code",
   "execution_count": 62,
   "metadata": {},
   "outputs": [],
   "source": [
    "def add_var(code):\n",
    "    \"\"\"\n",
    "    add self = self after the function definition if the ast of Python fail for some reason\n",
    "    \"\"\"\n",
    "    def_idx = 0\n",
    "    indent_num = 0\n",
    "    indent = ''\n",
    "    new_code = \"\"\n",
    "    found1 = False\n",
    "    found2 = False\n",
    "    once = False\n",
    "    for i, line in enumerate(code.splitlines()):\n",
    "        # fond the line of the function definition\n",
    "        if \"def\" in line:\n",
    "            found1 = True\n",
    "        if not once and found1 and len(line) > 0 and not line.isspace() and line.split()[-1][-1] == \":\":\n",
    "            found2 = True\n",
    "            def_idx  = i\n",
    "            once = True\n",
    "        # compute the indent number of the python code\n",
    "        if found2 and i > def_idx and len(line) > 0 and line[-1] != ' ':\n",
    "            for c in line:\n",
    "                if c == ' ':\n",
    "                    indent_num += 1\n",
    "                elif c != ' ':\n",
    "                    break\n",
    "            indent = \" \" * indent_num\n",
    "            break\n",
    "\n",
    "    for i, line in enumerate(code.splitlines()):\n",
    "        if (def_idx+1) == i:\n",
    "            new_code += '\\n'\n",
    "            new_code += indent + 'self = self\\n\\n'\n",
    "        new_code += line + '\\n'\n",
    "\n",
    "    return new_code"
   ]
  },
  {
   "cell_type": "code",
   "execution_count": null,
   "metadata": {},
   "outputs": [],
   "source": [
    "def findVariable(code):\n",
    "    try:\n",
    "        print(code)\n",
    "        root = AstLib.parse(code)\n",
    "        varList = []\n",
    "        for node in AstLib.walk(root):\n",
    "            # variables\n",
    "            if (isinstance(node, AstLib.Name) and isinstance(node.ctx, AstLib.Store)):\n",
    "                varList.append(node.id)\n",
    "            # function arguments\n",
    "            elif isinstance(node, AstLib.FunctionDef):\n",
    "                for arg in node.args.args:\n",
    "                    varList.append(arg.arg)\n",
    "            elif isinstance(node, AstLib.AsyncFunctionDef):\n",
    "                for arg in node.args.args:\n",
    "                    varList.append(arg.arg)\n",
    "            elif isinstance(node, AstLib.AsyncFunctionDef):\n",
    "                for arg in node.args.args:\n",
    "                    varList.append(arg.arg)\n",
    "        # randomply pick a random variable (we keep only one variable to predict)\n",
    "        if len(varList) > 0: # if some variable has been found\n",
    "            print(\"var \" + random.choice(varList) + \" found, skipped\")\n",
    "            variable_name_batch.append(random.choice(varList))\n",
    "            return True\n",
    "        else:\n",
    "            print(\"var not found again!\")\n",
    "            return False\n",
    "    except Exception as e:\n",
    "        print('AST not parsed again!')\n",
    "        return False\n",
    "    "
   ]
  },
  {
   "cell_type": "code",
   "execution_count": 68,
   "metadata": {},
   "outputs": [
    {
     "name": "stdout",
     "output_type": "stream",
     "text": [
      "\n",
      "def error(*args, \n",
      " **kwargs): \n",
      "    ciao = ciao.ciao.ciao\n",
      "\n",
      "var ciao found, skipped\n"
     ]
    }
   ],
   "source": [
    "import ast as AstLib\n",
    "import random\n",
    "\n",
    "stripped_code_snippets = []\n",
    "stripped_code_snippets.append(\n",
    "\"\"\"\n",
    "def error(*args, \n",
    " **kwargs): \n",
    "    return ciao.ciao.ciao\n",
    "\"\"\")\n",
    "\n",
    "variable_name_batch = []\n",
    "\n",
    "for i, code in enumerate(stripped_code_snippets):\n",
    "    try:\n",
    "        print(code)\n",
    "        root = AstLib.parse(code)\n",
    "        varList = []\n",
    "        for node in AstLib.walk(root):\n",
    "            # variables\n",
    "            if (isinstance(node, AstLib.Name) and isinstance(node.ctx, AstLib.Store)):\n",
    "                varList.append(node.id)\n",
    "            # function arguments\n",
    "            elif isinstance(node, AstLib.FunctionDef):\n",
    "                for arg in node.args.args:\n",
    "                    varList.append(arg.arg)\n",
    "            elif isinstance(node, AstLib.AsyncFunctionDef):\n",
    "                for arg in node.args.args:\n",
    "                    varList.append(arg.arg)\n",
    "            elif isinstance(node, AstLib.AsyncFunctionDef):\n",
    "                for arg in node.args.args:\n",
    "                    varList.append(arg.arg)\n",
    "        # randomply pick a random variable (we keep only one variable to predict)\n",
    "        if len(varList) > 0: # if some variable has been found\n",
    "            print(\"var \" + random.choice(varList) + \" found, skipped\")\n",
    "            variable_name_batch.append(random.choice(varList))\n",
    "        else:\n",
    "            print(\"var not found, adding self\")\n",
    "            new_code = add_var(code)\n",
    "            print(new_code)\n",
    "            assert findVariable(new_code)\n",
    "    except Exception as e:\n",
    "        print('AST not parsed!')\n",
    "        new_code = add_var(code)\n",
    "        print(new_code)\n",
    "        assert findVariable(new_code)\n",
    "\n"
   ]
  },
  {
   "cell_type": "code",
   "execution_count": null,
   "metadata": {},
   "outputs": [],
   "source": []
  }
 ],
 "metadata": {
  "interpreter": {
   "hash": "499cf9c699a428d4970219781bfcc814be552e7fef77f1ad041eb210673d5296"
  },
  "kernelspec": {
   "display_name": "Python 3.9.7 ('base': conda)",
   "language": "python",
   "name": "python3"
  },
  "language_info": {
   "codemirror_mode": {
    "name": "ipython",
    "version": 3
   },
   "file_extension": ".py",
   "mimetype": "text/x-python",
   "name": "python",
   "nbconvert_exporter": "python",
   "pygments_lexer": "ipython3",
   "version": "3.9.7"
  },
  "orig_nbformat": 4
 },
 "nbformat": 4,
 "nbformat_minor": 2
}
